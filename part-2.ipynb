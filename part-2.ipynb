{
 "cells": [
  {
   "cell_type": "code",
   "execution_count": 1,
   "metadata": {},
   "outputs": [],
   "source": [
    "import numpy as np\n",
    "import pandas as pd\n",
    "from matplotlib import pyplot as plt\n",
    "import cvxpy as cp"
   ]
  },
  {
   "cell_type": "code",
   "execution_count": 2,
   "metadata": {},
   "outputs": [],
   "source": [
    "raw_data = pd.read_excel('Data.xlsx', sheet_name=None, index_col=0)"
   ]
  },
  {
   "cell_type": "code",
   "execution_count": 3,
   "metadata": {},
   "outputs": [],
   "source": [
    "data = {}\n",
    "sheet_names = list(raw_data.keys())\n",
    "\n",
    "for s in sheet_names:\n",
    "    if s == 'FamaFrenchFactors':\n",
    "        new_name = s\n",
    "        col_labels = raw_data[s].columns\n",
    "    else:\n",
    "        new_name = s[18:]\n",
    "        col_labels = range(1, 11)\n",
    "    \n",
    "    data[new_name] = raw_data.pop(s)\n",
    "    data[new_name].columns = col_labels\n",
    "    data[new_name].index = (pd.to_datetime(data[new_name].index, format='%Y%m')\n",
    "                            .to_period('M').rename('Date'))"
   ]
  },
  {
   "cell_type": "markdown",
   "metadata": {},
   "source": [
    "## Question 3"
   ]
  },
  {
   "cell_type": "code",
   "execution_count": 4,
   "metadata": {},
   "outputs": [],
   "source": [
    "class Portfolio:\n",
    "    def __init__(\n",
    "        self, mu: pd.Series, S: pd.DataFrame,\n",
    "        long_only: bool = False,\n",
    "        ret: float = None, sd: float = None, sharpe: float = None,\n",
    "        weights: np.ndarray = None\n",
    "    ) -> None:\n",
    "        self.mu = mu\n",
    "        self.S = S\n",
    "        self.long_only = long_only\n",
    "        self.ret = ret\n",
    "        self.sd = sd\n",
    "        self.sharpe = sharpe\n",
    "        self.weights = weights\n",
    "\n",
    "    def optimize_weights(self, target_ret: float = None) -> None:\n",
    "        w = cp.Variable(self.mu.size)\n",
    "        ret = self.mu.values @ w\n",
    "        var = cp.quad_form(w, self.S.values)\n",
    "\n",
    "        if target_ret is not None:\n",
    "            self.ret = target_ret\n",
    "        elif self.ret is None:\n",
    "            print(\"Error: target return not specified\")\n",
    "            return\n",
    "\n",
    "        if self.long_only:\n",
    "            prob = cp.Problem(cp.Minimize(var),\n",
    "                              [cp.sum(w) == 1, ret == self.ret, w >= 0])\n",
    "        else:\n",
    "            prob = cp.Problem(cp.Minimize(var),\n",
    "                              [cp.sum(w) == 1, ret == self.ret])\n",
    "        \n",
    "        var_opt = prob.solve()\n",
    "\n",
    "        self.ret = float(self.ret)\n",
    "        self.sd = np.sqrt(var_opt)\n",
    "        self.weights = np.array(w.value)\n",
    "\n",
    "    \n",
    "    def get_sharpe(self, risk_free_rate: float) -> float:\n",
    "        self.sharpe = (self.ret - risk_free_rate) / self.sd\n",
    "        return self.sharpe"
   ]
  },
  {
   "cell_type": "code",
   "execution_count": 5,
   "metadata": {},
   "outputs": [],
   "source": [
    "class P_Efficient_Frontier:\n",
    "    def __init__(\n",
    "        self,\n",
    "        ret_range: np.ndarray,\n",
    "        portfolios: list[Portfolio] = []\n",
    ") -> None:\n",
    "        self.ret_range = list(ret_range)\n",
    "        self.portfolios = portfolios\n",
    "\n",
    "\n",
    "    def generate_ef(self, mu: pd.Series, S: pd.DataFrame, long_only: bool = False):\n",
    "        self.portfolios = []\n",
    "        for r in self.ret_range:\n",
    "            p = Portfolio(mu, S, long_only=long_only)\n",
    "            p.optimize_weights(target_ret=r)\n",
    "            self.portfolios.append(p)\n",
    "\n",
    "\n",
    "    def get_tan_p(self, risk_free_rate: float) -> Portfolio:\n",
    "        list_sharpe = []\n",
    "        for i in range(len(self.ret_range)):\n",
    "            list_sharpe.append(self.portfolios[i].get_sharpe(risk_free_rate))\n",
    "        \n",
    "        idx_max_sharpe = np.argmax(np.array(list_sharpe))\n",
    "        return self.portfolios[idx_max_sharpe]\n",
    "\n",
    "\n",
    "    def get_sd_ret_arr(self):\n",
    "        sd_arr = []\n",
    "        ret_arr = []\n",
    "        for p in self.portfolios:\n",
    "            sd_arr.append(p.sd)\n",
    "            ret_arr.append(p.ret)\n",
    "        \n",
    "        return (sd_arr, ret_arr)"
   ]
  },
  {
   "cell_type": "code",
   "execution_count": 6,
   "metadata": {},
   "outputs": [
    {
     "data": {
      "text/plain": [
       "0.36216366158113733"
      ]
     },
     "execution_count": 6,
     "metadata": {},
     "output_type": "execute_result"
    }
   ],
   "source": [
    "rf_mu = data['FamaFrenchFactors']['RF'].mean()\n",
    "rf_mu"
   ]
  },
  {
   "cell_type": "code",
   "execution_count": 7,
   "metadata": {},
   "outputs": [],
   "source": [
    "p_inv_mu = data['Investment'].mean()\n",
    "p_inv_ex = data['Investment'] - p_inv_mu\n",
    "p_inv_S = p_inv_ex.cov()"
   ]
  },
  {
   "cell_type": "code",
   "execution_count": 8,
   "metadata": {},
   "outputs": [],
   "source": [
    "ef_inv = P_Efficient_Frontier(ret_range=np.linspace(0, 2, 200))\n",
    "ef_inv.generate_ef(p_inv_mu, p_inv_S)\n",
    "tanp_inv = ef_inv.get_tan_p(risk_free_rate=rf_mu)"
   ]
  },
  {
   "cell_type": "code",
   "execution_count": 9,
   "metadata": {},
   "outputs": [
    {
     "data": {
      "text/plain": [
       "(1.6080402010050252, 5.147896588073307, 0.2420166213731538)"
      ]
     },
     "execution_count": 9,
     "metadata": {},
     "output_type": "execute_result"
    }
   ],
   "source": [
    "tanp_inv.ret, tanp_inv.sd, tanp_inv.sharpe"
   ]
  },
  {
   "cell_type": "code",
   "execution_count": 10,
   "metadata": {},
   "outputs": [
    {
     "data": {
      "text/plain": [
       "array([ 0.40781556,  0.79465305,  0.52837744, -0.20908625, -0.11511586,\n",
       "       -0.31282123,  0.3852204 ,  0.31157557,  0.86795987, -1.65857855])"
      ]
     },
     "execution_count": 10,
     "metadata": {},
     "output_type": "execute_result"
    }
   ],
   "source": [
    "tanp_inv.weights"
   ]
  },
  {
   "cell_type": "code",
   "execution_count": 11,
   "metadata": {},
   "outputs": [
    {
     "data": {
      "image/png": "[encoded data removed]",
      "text/plain": [
       "<Figure size 640x480 with 1 Axes>"
      ]
     },
     "metadata": {},
     "output_type": "display_data"
    }
   ],
   "source": [
    "_, ax = plt.subplots()\n",
    "\n",
    "sd_ef_inv, ret_ef_inv = ef_inv.get_sd_ret_arr()\n",
    "\n",
    "ax.plot(sd_ef_inv, ret_ef_inv, label='Efficient Frontier')\n",
    "\n",
    "ax.scatter(tanp_inv.sd, tanp_inv.ret, marker=\"*\", c=\"r\", label=\"Max Sharpe\")\n",
    "\n",
    "ax.set_xlim(3, )\n",
    "ax.plot([3, 7],\n",
    "        [3 * tanp_inv.sharpe + rf_mu, 7 * tanp_inv.sharpe + rf_mu],\n",
    "        '--')\n",
    "\n",
    "ax.set_title(\"10 portfolios formed by investment\")\n",
    "ax.legend()\n",
    "plt.show()"
   ]
  },
  {
   "cell_type": "code",
   "execution_count": 12,
   "metadata": {},
   "outputs": [],
   "source": [
    "p_20 = pd.concat([data['Investment'], data['Profitability']], axis=1)\n",
    "p_20.columns = ([f'inv_{i}' for i in data['Investment'].columns]\n",
    "                + [f'prof_{i}' for i in data['Profitability'].columns])"
   ]
  },
  {
   "cell_type": "code",
   "execution_count": 13,
   "metadata": {},
   "outputs": [],
   "source": [
    "p_20_mu = p_20.mean()\n",
    "p_20_S = (p_20 - p_20_mu).cov()"
   ]
  },
  {
   "cell_type": "code",
   "execution_count": 14,
   "metadata": {},
   "outputs": [],
   "source": [
    "ef_20 = P_Efficient_Frontier(ret_range=np.linspace(0, 4, 400))\n",
    "ef_20.generate_ef(p_20_mu, p_20_S)\n",
    "tanp_20 = ef_20.get_tan_p(risk_free_rate=rf_mu)"
   ]
  },
  {
   "cell_type": "code",
   "execution_count": 15,
   "metadata": {},
   "outputs": [
    {
     "data": {
      "text/plain": [
       "(2.0350877192982457, 5.593824346035855, 0.2990662477456323)"
      ]
     },
     "execution_count": 15,
     "metadata": {},
     "output_type": "execute_result"
    }
   ],
   "source": [
    "tanp_20.ret, tanp_20.sd, tanp_20.sharpe"
   ]
  },
  {
   "cell_type": "code",
   "execution_count": 16,
   "metadata": {},
   "outputs": [
    {
     "data": {
      "text/plain": [
       "array([ 0.78988051,  0.99014918,  0.56167952,  0.58888532,  0.17093563,\n",
       "       -0.25742778,  0.28170231,  0.31519619,  0.78938115, -0.95186396,\n",
       "       -0.37081168, -0.60565736, -0.78919639, -0.54669002,  0.44796668,\n",
       "       -0.75018478, -0.22358038,  0.06362291,  0.63441061, -0.13839766])"
      ]
     },
     "execution_count": 16,
     "metadata": {},
     "output_type": "execute_result"
    }
   ],
   "source": [
    "tanp_20.weights"
   ]
  },
  {
   "cell_type": "code",
   "execution_count": 17,
   "metadata": {},
   "outputs": [],
   "source": [
    "p_30 = pd.concat([data['Investment'], data['Profitability'], data['Momentum']],\n",
    "                 axis=1)\n",
    "p_30.columns = ([f'inv_{i}' for i in data['Investment'].columns]\n",
    "                + [f'prof_{i}' for i in data['Profitability'].columns]\n",
    "                + [f'mom_{i}' for i in data['Momentum'].columns])"
   ]
  },
  {
   "cell_type": "code",
   "execution_count": 18,
   "metadata": {},
   "outputs": [],
   "source": [
    "p_30_mu = p_30.mean()\n",
    "p_30_S = (p_30 - p_30_mu).cov()"
   ]
  },
  {
   "cell_type": "code",
   "execution_count": 19,
   "metadata": {},
   "outputs": [],
   "source": [
    "ef_30 = P_Efficient_Frontier(ret_range=np.linspace(0, 4, 400))\n",
    "ef_30.generate_ef(p_30_mu, p_30_S)\n",
    "tanp_30 = ef_30.get_tan_p(risk_free_rate=rf_mu)"
   ]
  },
  {
   "cell_type": "code",
   "execution_count": 20,
   "metadata": {},
   "outputs": [
    {
     "data": {
      "text/plain": [
       "(3.2180451127819545, 7.250488713684098, 0.3938881314042753)"
      ]
     },
     "execution_count": 20,
     "metadata": {},
     "output_type": "execute_result"
    }
   ],
   "source": [
    "tanp_30.ret, tanp_30.sd, tanp_30.sharpe"
   ]
  },
  {
   "cell_type": "code",
   "execution_count": 21,
   "metadata": {},
   "outputs": [
    {
     "data": {
      "text/plain": [
       "array([ 0.47510953,  0.78206432,  0.63087101,  0.36542712, -0.0805739 ,\n",
       "       -0.36666614, -0.02724849, -0.11491686,  0.29314728, -1.49698766,\n",
       "       -0.5103277 , -0.55616111, -0.64796704, -0.55649414,  0.67394582,\n",
       "       -0.79013437,  0.19087547,  0.39121704,  0.45853068,  0.09833374,\n",
       "       -0.63605413,  0.43168549,  0.9173083 ,  0.78970808, -0.45781271,\n",
       "       -0.04901819, -0.52625056, -0.03100014, -0.46699115,  1.81638042])"
      ]
     },
     "execution_count": 21,
     "metadata": {},
     "output_type": "execute_result"
    }
   ],
   "source": [
    "tanp_30.weights"
   ]
  },
  {
   "cell_type": "code",
   "execution_count": 22,
   "metadata": {},
   "outputs": [
    {
     "data": {
      "image/png": "[encoded data removed]",
      "text/plain": [
       "<Figure size 640x480 with 1 Axes>"
      ]
     },
     "metadata": {},
     "output_type": "display_data"
    }
   ],
   "source": [
    "_, ax = plt.subplots()\n",
    "\n",
    "sd_ef_20, ret_ef_20 = ef_20.get_sd_ret_arr()\n",
    "ax.plot(sd_ef_20, ret_ef_20, label='Efficient Frontier of 20')\n",
    "\n",
    "sd_ef_30, ret_ef_30 = ef_30.get_sd_ret_arr()\n",
    "ax.plot(sd_ef_30, ret_ef_30, label='Efficient Frontier of 30')\n",
    "\n",
    "ax.scatter(tanp_20.sd, tanp_20.ret, marker=\"*\", c=\"r\", label=\"Max Sharpe of 20\")\n",
    "ax.scatter(tanp_30.sd, tanp_30.ret, marker=\"*\", c=\"g\", label=\"Max Sharpe of 30\")\n",
    "\n",
    "ax.set_xlim(3, 10)\n",
    "ax.plot([3, 10],\n",
    "        [3 * tanp_20.sharpe + rf_mu, 10 * tanp_20.sharpe + rf_mu],\n",
    "        '--')\n",
    "ax.plot([3, 10],\n",
    "        [3 * tanp_30.sharpe + rf_mu, 10 * tanp_30.sharpe + rf_mu],\n",
    "        '--')\n",
    "\n",
    "ax.set_title(\"Comparing 20 and 30 portfolios\")\n",
    "\n",
    "ax.legend()\n",
    "plt.show()"
   ]
  },
  {
   "cell_type": "code",
   "execution_count": 23,
   "metadata": {},
   "outputs": [
    {
     "data": {
      "text/html": [
       "<div>\n",
       "<style scoped>\n",
       "    .dataframe tbody tr th:only-of-type {\n",
       "        vertical-align: middle;\n",
       "    }\n",
       "\n",
       "    .dataframe tbody tr th {\n",
       "        vertical-align: top;\n",
       "    }\n",
       "\n",
       "    .dataframe thead th {\n",
       "        text-align: right;\n",
       "    }\n",
       "</style>\n",
       "<table border=\"1\" class=\"dataframe\">\n",
       "  <thead>\n",
       "    <tr style=\"text-align: right;\">\n",
       "      <th></th>\n",
       "      <th>mean_return</th>\n",
       "      <th>sd_return</th>\n",
       "      <th>sharpe</th>\n",
       "      <th>weights</th>\n",
       "    </tr>\n",
       "  </thead>\n",
       "  <tbody>\n",
       "    <tr>\n",
       "      <th>mom_10</th>\n",
       "      <td>1.475284</td>\n",
       "      <td>6.118831</td>\n",
       "      <td>0.181917</td>\n",
       "      <td>1.816380</td>\n",
       "    </tr>\n",
       "    <tr>\n",
       "      <th>mom_3</th>\n",
       "      <td>0.913426</td>\n",
       "      <td>5.449894</td>\n",
       "      <td>0.101151</td>\n",
       "      <td>0.917308</td>\n",
       "    </tr>\n",
       "    <tr>\n",
       "      <th>mom_4</th>\n",
       "      <td>0.942635</td>\n",
       "      <td>4.899604</td>\n",
       "      <td>0.118473</td>\n",
       "      <td>0.789708</td>\n",
       "    </tr>\n",
       "    <tr>\n",
       "      <th>inv_2</th>\n",
       "      <td>1.151318</td>\n",
       "      <td>4.750456</td>\n",
       "      <td>0.166122</td>\n",
       "      <td>0.782064</td>\n",
       "    </tr>\n",
       "    <tr>\n",
       "      <th>prof_5</th>\n",
       "      <td>0.997906</td>\n",
       "      <td>4.675570</td>\n",
       "      <td>0.135971</td>\n",
       "      <td>0.673946</td>\n",
       "    </tr>\n",
       "    <tr>\n",
       "      <th>inv_3</th>\n",
       "      <td>1.067323</td>\n",
       "      <td>4.356696</td>\n",
       "      <td>0.161857</td>\n",
       "      <td>0.630871</td>\n",
       "    </tr>\n",
       "    <tr>\n",
       "      <th>inv_1</th>\n",
       "      <td>1.163939</td>\n",
       "      <td>5.358714</td>\n",
       "      <td>0.149621</td>\n",
       "      <td>0.475110</td>\n",
       "    </tr>\n",
       "    <tr>\n",
       "      <th>prof_9</th>\n",
       "      <td>1.075284</td>\n",
       "      <td>4.547001</td>\n",
       "      <td>0.156833</td>\n",
       "      <td>0.458531</td>\n",
       "    </tr>\n",
       "    <tr>\n",
       "      <th>mom_2</th>\n",
       "      <td>0.774466</td>\n",
       "      <td>6.488377</td>\n",
       "      <td>0.063545</td>\n",
       "      <td>0.431685</td>\n",
       "    </tr>\n",
       "    <tr>\n",
       "      <th>prof_8</th>\n",
       "      <td>1.030042</td>\n",
       "      <td>4.526771</td>\n",
       "      <td>0.147540</td>\n",
       "      <td>0.391217</td>\n",
       "    </tr>\n",
       "    <tr>\n",
       "      <th>inv_4</th>\n",
       "      <td>0.973245</td>\n",
       "      <td>4.230571</td>\n",
       "      <td>0.144444</td>\n",
       "      <td>0.365427</td>\n",
       "    </tr>\n",
       "    <tr>\n",
       "      <th>inv_9</th>\n",
       "      <td>0.997379</td>\n",
       "      <td>5.392302</td>\n",
       "      <td>0.117800</td>\n",
       "      <td>0.293147</td>\n",
       "    </tr>\n",
       "    <tr>\n",
       "      <th>prof_7</th>\n",
       "      <td>0.898044</td>\n",
       "      <td>4.600458</td>\n",
       "      <td>0.116484</td>\n",
       "      <td>0.190875</td>\n",
       "    </tr>\n",
       "    <tr>\n",
       "      <th>prof_10</th>\n",
       "      <td>1.038655</td>\n",
       "      <td>4.644635</td>\n",
       "      <td>0.145650</td>\n",
       "      <td>0.098334</td>\n",
       "    </tr>\n",
       "    <tr>\n",
       "      <th>inv_7</th>\n",
       "      <td>0.972663</td>\n",
       "      <td>4.400360</td>\n",
       "      <td>0.138738</td>\n",
       "      <td>-0.027248</td>\n",
       "    </tr>\n",
       "    <tr>\n",
       "      <th>mom_8</th>\n",
       "      <td>1.049528</td>\n",
       "      <td>4.456146</td>\n",
       "      <td>0.154251</td>\n",
       "      <td>-0.031000</td>\n",
       "    </tr>\n",
       "    <tr>\n",
       "      <th>mom_6</th>\n",
       "      <td>0.937004</td>\n",
       "      <td>4.558031</td>\n",
       "      <td>0.126116</td>\n",
       "      <td>-0.049018</td>\n",
       "    </tr>\n",
       "    <tr>\n",
       "      <th>inv_5</th>\n",
       "      <td>0.962386</td>\n",
       "      <td>4.198568</td>\n",
       "      <td>0.142959</td>\n",
       "      <td>-0.080574</td>\n",
       "    </tr>\n",
       "    <tr>\n",
       "      <th>inv_8</th>\n",
       "      <td>0.979251</td>\n",
       "      <td>4.771906</td>\n",
       "      <td>0.129317</td>\n",
       "      <td>-0.114917</td>\n",
       "    </tr>\n",
       "    <tr>\n",
       "      <th>inv_6</th>\n",
       "      <td>0.954660</td>\n",
       "      <td>4.390712</td>\n",
       "      <td>0.134943</td>\n",
       "      <td>-0.366666</td>\n",
       "    </tr>\n",
       "    <tr>\n",
       "      <th>mom_5</th>\n",
       "      <td>0.860333</td>\n",
       "      <td>4.498224</td>\n",
       "      <td>0.110748</td>\n",
       "      <td>-0.457813</td>\n",
       "    </tr>\n",
       "    <tr>\n",
       "      <th>mom_9</th>\n",
       "      <td>1.106463</td>\n",
       "      <td>4.756176</td>\n",
       "      <td>0.156491</td>\n",
       "      <td>-0.466991</td>\n",
       "    </tr>\n",
       "    <tr>\n",
       "      <th>prof_1</th>\n",
       "      <td>0.748890</td>\n",
       "      <td>6.578407</td>\n",
       "      <td>0.058787</td>\n",
       "      <td>-0.510328</td>\n",
       "    </tr>\n",
       "    <tr>\n",
       "      <th>mom_7</th>\n",
       "      <td>0.946117</td>\n",
       "      <td>4.391049</td>\n",
       "      <td>0.132987</td>\n",
       "      <td>-0.526251</td>\n",
       "    </tr>\n",
       "    <tr>\n",
       "      <th>prof_2</th>\n",
       "      <td>0.801942</td>\n",
       "      <td>5.189462</td>\n",
       "      <td>0.084744</td>\n",
       "      <td>-0.556161</td>\n",
       "    </tr>\n",
       "    <tr>\n",
       "      <th>prof_4</th>\n",
       "      <td>0.889695</td>\n",
       "      <td>4.616743</td>\n",
       "      <td>0.114265</td>\n",
       "      <td>-0.556494</td>\n",
       "    </tr>\n",
       "    <tr>\n",
       "      <th>mom_1</th>\n",
       "      <td>0.304411</td>\n",
       "      <td>8.392381</td>\n",
       "      <td>-0.006882</td>\n",
       "      <td>-0.636054</td>\n",
       "    </tr>\n",
       "    <tr>\n",
       "      <th>prof_3</th>\n",
       "      <td>0.837323</td>\n",
       "      <td>4.939107</td>\n",
       "      <td>0.096204</td>\n",
       "      <td>-0.647967</td>\n",
       "    </tr>\n",
       "    <tr>\n",
       "      <th>prof_6</th>\n",
       "      <td>0.922080</td>\n",
       "      <td>4.554809</td>\n",
       "      <td>0.122929</td>\n",
       "      <td>-0.790134</td>\n",
       "    </tr>\n",
       "    <tr>\n",
       "      <th>inv_10</th>\n",
       "      <td>0.770569</td>\n",
       "      <td>6.083457</td>\n",
       "      <td>0.067134</td>\n",
       "      <td>-1.496988</td>\n",
       "    </tr>\n",
       "  </tbody>\n",
       "</table>\n",
       "</div>"
      ],
      "text/plain": [
       "         mean_return  sd_return    sharpe   weights\n",
       "mom_10      1.475284   6.118831  0.181917  1.816380\n",
       "mom_3       0.913426   5.449894  0.101151  0.917308\n",
       "mom_4       0.942635   4.899604  0.118473  0.789708\n",
       "inv_2       1.151318   4.750456  0.166122  0.782064\n",
       "prof_5      0.997906   4.675570  0.135971  0.673946\n",
       "inv_3       1.067323   4.356696  0.161857  0.630871\n",
       "inv_1       1.163939   5.358714  0.149621  0.475110\n",
       "prof_9      1.075284   4.547001  0.156833  0.458531\n",
       "mom_2       0.774466   6.488377  0.063545  0.431685\n",
       "prof_8      1.030042   4.526771  0.147540  0.391217\n",
       "inv_4       0.973245   4.230571  0.144444  0.365427\n",
       "inv_9       0.997379   5.392302  0.117800  0.293147\n",
       "prof_7      0.898044   4.600458  0.116484  0.190875\n",
       "prof_10     1.038655   4.644635  0.145650  0.098334\n",
       "inv_7       0.972663   4.400360  0.138738 -0.027248\n",
       "mom_8       1.049528   4.456146  0.154251 -0.031000\n",
       "mom_6       0.937004   4.558031  0.126116 -0.049018\n",
       "inv_5       0.962386   4.198568  0.142959 -0.080574\n",
       "inv_8       0.979251   4.771906  0.129317 -0.114917\n",
       "inv_6       0.954660   4.390712  0.134943 -0.366666\n",
       "mom_5       0.860333   4.498224  0.110748 -0.457813\n",
       "mom_9       1.106463   4.756176  0.156491 -0.466991\n",
       "prof_1      0.748890   6.578407  0.058787 -0.510328\n",
       "mom_7       0.946117   4.391049  0.132987 -0.526251\n",
       "prof_2      0.801942   5.189462  0.084744 -0.556161\n",
       "prof_4      0.889695   4.616743  0.114265 -0.556494\n",
       "mom_1       0.304411   8.392381 -0.006882 -0.636054\n",
       "prof_3      0.837323   4.939107  0.096204 -0.647967\n",
       "prof_6      0.922080   4.554809  0.122929 -0.790134\n",
       "inv_10      0.770569   6.083457  0.067134 -1.496988"
      ]
     },
     "execution_count": 23,
     "metadata": {},
     "output_type": "execute_result"
    }
   ],
   "source": [
    "df_tanp_30 = pd.DataFrame({\n",
    "    'mean_return': p_30_mu,\n",
    "    'sd_return': np.sqrt(np.diag(p_30_S))\n",
    "})\n",
    "\n",
    "df_tanp_30['sharpe'] = (df_tanp_30['mean_return'] - rf_mu) / df_tanp_30['sd_return']\n",
    "df_tanp_30['weights'] = tanp_30.weights\n",
    "\n",
    "df_tanp_30 = df_tanp_30.sort_values(by='weights', ascending=False)\n",
    "df_tanp_30"
   ]
  },
  {
   "cell_type": "code",
   "execution_count": 24,
   "metadata": {},
   "outputs": [
    {
     "data": {
      "text/html": [
       "<div>\n",
       "<style scoped>\n",
       "    .dataframe tbody tr th:only-of-type {\n",
       "        vertical-align: middle;\n",
       "    }\n",
       "\n",
       "    .dataframe tbody tr th {\n",
       "        vertical-align: top;\n",
       "    }\n",
       "\n",
       "    .dataframe thead th {\n",
       "        text-align: right;\n",
       "    }\n",
       "</style>\n",
       "<table border=\"1\" class=\"dataframe\">\n",
       "  <thead>\n",
       "    <tr style=\"text-align: right;\">\n",
       "      <th></th>\n",
       "      <th>mean_return</th>\n",
       "      <th>sd_return</th>\n",
       "      <th>sharpe</th>\n",
       "      <th>weights</th>\n",
       "    </tr>\n",
       "  </thead>\n",
       "  <tbody>\n",
       "    <tr>\n",
       "      <th>mean_return</th>\n",
       "      <td>1.000000</td>\n",
       "      <td>-0.529972</td>\n",
       "      <td>0.928828</td>\n",
       "      <td>0.631035</td>\n",
       "    </tr>\n",
       "    <tr>\n",
       "      <th>sd_return</th>\n",
       "      <td>-0.529972</td>\n",
       "      <td>1.000000</td>\n",
       "      <td>-0.756718</td>\n",
       "      <td>-0.079825</td>\n",
       "    </tr>\n",
       "    <tr>\n",
       "      <th>sharpe</th>\n",
       "      <td>0.928828</td>\n",
       "      <td>-0.756718</td>\n",
       "      <td>1.000000</td>\n",
       "      <td>0.521095</td>\n",
       "    </tr>\n",
       "    <tr>\n",
       "      <th>weights</th>\n",
       "      <td>0.631035</td>\n",
       "      <td>-0.079825</td>\n",
       "      <td>0.521095</td>\n",
       "      <td>1.000000</td>\n",
       "    </tr>\n",
       "  </tbody>\n",
       "</table>\n",
       "</div>"
      ],
      "text/plain": [
       "             mean_return  sd_return    sharpe   weights\n",
       "mean_return     1.000000  -0.529972  0.928828  0.631035\n",
       "sd_return      -0.529972   1.000000 -0.756718 -0.079825\n",
       "sharpe          0.928828  -0.756718  1.000000  0.521095\n",
       "weights         0.631035  -0.079825  0.521095  1.000000"
      ]
     },
     "execution_count": 24,
     "metadata": {},
     "output_type": "execute_result"
    }
   ],
   "source": [
    "df_tanp_30.corr()"
   ]
  },
  {
   "cell_type": "code",
   "execution_count": 25,
   "metadata": {},
   "outputs": [],
   "source": [
    "ef_30_long = P_Efficient_Frontier(ret_range=np.linspace(0, 2, 200))\n",
    "ef_30_long.generate_ef(p_30_mu, p_30_S, long_only=True)\n",
    "tanp_30_long = ef_30_long.get_tan_p(risk_free_rate=rf_mu)"
   ]
  },
  {
   "cell_type": "code",
   "execution_count": 26,
   "metadata": {},
   "outputs": [
    {
     "data": {
      "text/plain": [
       "(1.3165829145728642, 5.065741491751002, 0.18840662409360856)"
      ]
     },
     "execution_count": 26,
     "metadata": {},
     "output_type": "execute_result"
    }
   ],
   "source": [
    "tanp_30_long.ret, tanp_30_long.sd, tanp_30_long.sharpe"
   ]
  },
  {
   "cell_type": "code",
   "execution_count": 27,
   "metadata": {},
   "outputs": [
    {
     "data": {
      "text/plain": [
       "array([-0.        ,  0.25682331,  0.18506469, -0.        , -0.        ,\n",
       "       -0.        , -0.        , -0.        , -0.        , -0.        ,\n",
       "       -0.        , -0.        , -0.        , -0.        , -0.        ,\n",
       "       -0.        , -0.        , -0.        , -0.        , -0.        ,\n",
       "       -0.        , -0.        , -0.        , -0.        , -0.        ,\n",
       "       -0.        , -0.        , -0.        , -0.        ,  0.55811199])"
      ]
     },
     "execution_count": 27,
     "metadata": {},
     "output_type": "execute_result"
    }
   ],
   "source": [
    "tanp_30_long.weights.round(decimals=8)"
   ]
  },
  {
   "cell_type": "code",
   "execution_count": 28,
   "metadata": {},
   "outputs": [
    {
     "data": {
      "image/png": "[encoded data removed]",
      "text/plain": [
       "<Figure size 640x480 with 1 Axes>"
      ]
     },
     "metadata": {},
     "output_type": "display_data"
    }
   ],
   "source": [
    "_, ax = plt.subplots()\n",
    "\n",
    "sd_ef_30_long, ret_ef_30_long = ef_30_long.get_sd_ret_arr()\n",
    "ax.plot(sd_ef_30_long, ret_ef_30_long,\n",
    "        label='Efficient Frontier of 30, long-only')\n",
    "\n",
    "sd_ef_30, ret_ef_30 = ef_30.get_sd_ret_arr()\n",
    "ax.plot(sd_ef_30, ret_ef_30,\n",
    "        label='Efficient Frontier of 30')\n",
    "\n",
    "ax.scatter(tanp_30_long.sd, tanp_30_long.ret, marker=\"*\", c=\"r\",\n",
    "           label=\"Max Sharpe of 30, long-only\")\n",
    "ax.scatter(tanp_30.sd, tanp_30.ret, marker=\"*\", c=\"g\",\n",
    "           label=\"Max Sharpe of 30\")\n",
    "\n",
    "ax.set_xlim(3, 8)\n",
    "ax.plot([3, 8],\n",
    "        [3 * tanp_30_long.sharpe + rf_mu, 8 * tanp_30_long.sharpe + rf_mu],\n",
    "        '--')\n",
    "ax.plot([3, 8],\n",
    "        [3 * tanp_30.sharpe + rf_mu, 8 * tanp_30.sharpe + rf_mu],\n",
    "        '--')\n",
    "\n",
    "ax.set_title(\"30 portfolios, Long-only\")\n",
    "\n",
    "ax.legend()\n",
    "plt.show()"
   ]
  }
 ],
 "metadata": {
  "kernelspec": {
   "display_name": "Python 3",
   "language": "python",
   "name": "python3"
  },
  "language_info": {
   "codemirror_mode": {
    "name": "ipython",
    "version": 3
   },
   "file_extension": ".py",
   "mimetype": "text/x-python",
   "name": "python",
   "nbconvert_exporter": "python",
   "pygments_lexer": "ipython3",
   "version": "3.11.1"
  },
  "orig_nbformat": 4
 },
 "nbformat": 4,
 "nbformat_minor": 2
}
